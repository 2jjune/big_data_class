{
 "cells": [
  {
   "cell_type": "code",
   "execution_count": 1,
   "id": "0f1899ce",
   "metadata": {},
   "outputs": [],
   "source": [
    "i=10"
   ]
  },
  {
   "cell_type": "code",
   "execution_count": 2,
   "id": "706dd067",
   "metadata": {},
   "outputs": [],
   "source": [
    "j=40"
   ]
  },
  {
   "cell_type": "code",
   "execution_count": 3,
   "id": "dfb70a41",
   "metadata": {},
   "outputs": [
    {
     "name": "stdout",
     "output_type": "stream",
     "text": [
      "10 40 50\n"
     ]
    }
   ],
   "source": [
    "print(i,j,i+j)"
   ]
  },
  {
   "cell_type": "code",
   "execution_count": 4,
   "id": "6c5eeea2",
   "metadata": {},
   "outputs": [],
   "source": [
    "str1 = 'This is a Python Program.'"
   ]
  },
  {
   "cell_type": "code",
   "execution_count": 5,
   "id": "c2905204",
   "metadata": {},
   "outputs": [
    {
     "data": {
      "text/plain": [
       "'THIS IS A PYTHON PROGRAM.'"
      ]
     },
     "execution_count": 5,
     "metadata": {},
     "output_type": "execute_result"
    }
   ],
   "source": [
    "str1.upper()"
   ]
  },
  {
   "cell_type": "code",
   "execution_count": 6,
   "id": "03634f0a",
   "metadata": {},
   "outputs": [
    {
     "data": {
      "text/plain": [
       "25"
      ]
     },
     "execution_count": 6,
     "metadata": {},
     "output_type": "execute_result"
    }
   ],
   "source": [
    "len(str1)"
   ]
  },
  {
   "cell_type": "code",
   "execution_count": 7,
   "id": "c3d2e623",
   "metadata": {},
   "outputs": [
    {
     "data": {
      "text/plain": [
       "2"
      ]
     },
     "execution_count": 7,
     "metadata": {},
     "output_type": "execute_result"
    }
   ],
   "source": [
    "7//3"
   ]
  },
  {
   "cell_type": "code",
   "execution_count": 8,
   "id": "b4dcf82e",
   "metadata": {},
   "outputs": [
    {
     "data": {
      "text/plain": [
       "1"
      ]
     },
     "execution_count": 8,
     "metadata": {},
     "output_type": "execute_result"
    }
   ],
   "source": [
    "7%3"
   ]
  },
  {
   "cell_type": "code",
   "execution_count": 9,
   "id": "1425b1d8",
   "metadata": {},
   "outputs": [],
   "source": [
    "x=15"
   ]
  },
  {
   "cell_type": "code",
   "execution_count": 10,
   "id": "ad330cb0",
   "metadata": {},
   "outputs": [
    {
     "name": "stdout",
     "output_type": "stream",
     "text": [
      "출력결과 : 15\n"
     ]
    }
   ],
   "source": [
    "print(\"출력결과 : {}\".format(x))"
   ]
  },
  {
   "cell_type": "code",
   "execution_count": 14,
   "id": "23c465dc",
   "metadata": {},
   "outputs": [
    {
     "name": "stdout",
     "output_type": "stream",
     "text": [
      "정보입력: 500\n"
     ]
    }
   ],
   "source": [
    "x = input('정보입력: ')"
   ]
  },
  {
   "cell_type": "code",
   "execution_count": 17,
   "id": "85a7a405",
   "metadata": {},
   "outputs": [
    {
     "data": {
      "text/plain": [
       "'500'"
      ]
     },
     "execution_count": 17,
     "metadata": {},
     "output_type": "execute_result"
    }
   ],
   "source": [
    "x"
   ]
  },
  {
   "cell_type": "code",
   "execution_count": 18,
   "id": "ebdac6d5",
   "metadata": {},
   "outputs": [
    {
     "name": "stdout",
     "output_type": "stream",
     "text": [
      "x: 500\n"
     ]
    }
   ],
   "source": [
    "x = int(input('x: '))"
   ]
  },
  {
   "cell_type": "code",
   "execution_count": 19,
   "id": "da91c973",
   "metadata": {},
   "outputs": [
    {
     "name": "stdout",
     "output_type": "stream",
     "text": [
      "y: 600\n"
     ]
    }
   ],
   "source": [
    "y = int(input('y: '))"
   ]
  },
  {
   "cell_type": "code",
   "execution_count": 20,
   "id": "274fc344",
   "metadata": {},
   "outputs": [
    {
     "data": {
      "text/plain": [
       "1100"
      ]
     },
     "execution_count": 20,
     "metadata": {},
     "output_type": "execute_result"
    }
   ],
   "source": [
    "x+y"
   ]
  },
  {
   "cell_type": "code",
   "execution_count": 22,
   "id": "9f987ab6",
   "metadata": {},
   "outputs": [
    {
     "name": "stdout",
     "output_type": "stream",
     "text": [
      "500 + 600 = 1100\n",
      "500 - 600 = -100\n",
      "500 * 600 = 300000\n",
      "500 / 600 = 0.833333\n"
     ]
    }
   ],
   "source": [
    "print(\"%d + %d = %d\"%(x,y,x+y))\n",
    "print(\"%d - %d = %d\"%(x,y,x-y))\n",
    "print(\"%d * %d = %d\"%(x,y,x*y))\n",
    "print(\"%d / %d = %f\"%(x,y,x/y))"
   ]
  },
  {
   "cell_type": "code",
   "execution_count": 23,
   "id": "62ce1362",
   "metadata": {},
   "outputs": [],
   "source": [
    "from math import exp, log, sqrt\n",
    "import re\n",
    "from datetime import date, time, datetime, timedelta"
   ]
  },
  {
   "cell_type": "code",
   "execution_count": 25,
   "id": "d1b05dbf",
   "metadata": {},
   "outputs": [
    {
     "name": "stdout",
     "output_type": "stream",
     "text": [
      "today:2022-09-19\n",
      "today:2022\n",
      "today:9\n",
      "today:19\n"
     ]
    }
   ],
   "source": [
    "today = date.today()\n",
    "print('today:{0!s}'.format(today))\n",
    "print('today:{0!s}'.format(today.year))\n",
    "print('today:{0!s}'.format(today.month))\n",
    "print('today:{0!s}'.format(today.day))"
   ]
  },
  {
   "cell_type": "code",
   "execution_count": 26,
   "id": "9a6ddb2f",
   "metadata": {},
   "outputs": [
    {
     "data": {
      "text/plain": [
       "datetime.datetime(2022, 9, 19, 20, 6, 5, 103814)"
      ]
     },
     "execution_count": 26,
     "metadata": {},
     "output_type": "execute_result"
    }
   ],
   "source": [
    "today = datetime.today()\n",
    "today"
   ]
  },
  {
   "cell_type": "code",
   "execution_count": 27,
   "id": "1a4cc0c7",
   "metadata": {},
   "outputs": [
    {
     "data": {
      "text/plain": [
       "[[0, 0, 0, 0], [0, 0, 0, 0], [0, 0, 0, 0]]"
      ]
     },
     "execution_count": 27,
     "metadata": {},
     "output_type": "execute_result"
    }
   ],
   "source": [
    "mat2 = [[0]*4 for i in range(3)]\n",
    "mat2"
   ]
  },
  {
   "cell_type": "code",
   "execution_count": 29,
   "id": "28a97357",
   "metadata": {},
   "outputs": [
    {
     "name": "stdout",
     "output_type": "stream",
     "text": [
      "[1, 3, 2, 4]\n",
      "[1, 2, 3, 4, 4, 8]\n",
      "[8, 4, 4, 3, 2, 1]\n",
      "[8, 4, 7, 4, 3, 2, 1]\n",
      "4\n",
      "2\n"
     ]
    }
   ],
   "source": [
    "a = [1,3,2]\n",
    "a.append(4)\n",
    "print(a)\n",
    "a.extend([4,8])\n",
    "a.sort()\n",
    "print(a)\n",
    "a.reverse()\n",
    "print(a)\n",
    "a.insert(2,7)\n",
    "print(a)\n",
    "print(a.index(3))\n",
    "print(a.count(4))"
   ]
  },
  {
   "cell_type": "code",
   "execution_count": 30,
   "id": "874e6998",
   "metadata": {},
   "outputs": [],
   "source": [
    "dic = {'name':'pey', 'birth':'1118'}"
   ]
  },
  {
   "cell_type": "code",
   "execution_count": 31,
   "id": "4ad98ea7",
   "metadata": {},
   "outputs": [
    {
     "name": "stdout",
     "output_type": "stream",
     "text": [
      "name\n",
      "birth\n"
     ]
    }
   ],
   "source": [
    "lst=list(dic.keys())\n",
    "for i in lst:\n",
    "    print(i)"
   ]
  },
  {
   "cell_type": "code",
   "execution_count": 33,
   "id": "59b3b8a0",
   "metadata": {},
   "outputs": [
    {
     "data": {
      "text/plain": [
       "{'H', 'e', 'l', 'o'}"
      ]
     },
     "execution_count": 33,
     "metadata": {},
     "output_type": "execute_result"
    }
   ],
   "source": [
    "s = set('Hello')\n",
    "s"
   ]
  },
  {
   "cell_type": "code",
   "execution_count": 35,
   "id": "dac68fdc",
   "metadata": {},
   "outputs": [
    {
     "name": "stdout",
     "output_type": "stream",
     "text": [
      "{4, 5, 6}\n",
      "{4, 5, 6}\n",
      "{1, 2, 3, 4, 5, 6, 7, 8, 9}\n",
      "{1, 2, 3, 4, 5, 6, 7, 8, 9}\n",
      "{1, 2, 3}\n",
      "{1, 2, 3}\n"
     ]
    }
   ],
   "source": [
    "s1 = set([1,2,3,4,5,6])\n",
    "s2=set([4,5,6,7,8,9])\n",
    "print(s1&s2)\n",
    "print(s1.intersection(s2))\n",
    "print(s1|s2)\n",
    "print(s1.union(s2))\n",
    "print(s1-s2)\n",
    "print(s1.difference(s2))"
   ]
  },
  {
   "cell_type": "code",
   "execution_count": null,
   "id": "0227e0ba",
   "metadata": {},
   "outputs": [],
   "source": []
  }
 ],
 "metadata": {
  "kernelspec": {
   "display_name": "Python 3 (ipykernel)",
   "language": "python",
   "name": "python3"
  },
  "language_info": {
   "codemirror_mode": {
    "name": "ipython",
    "version": 3
   },
   "file_extension": ".py",
   "mimetype": "text/x-python",
   "name": "python",
   "nbconvert_exporter": "python",
   "pygments_lexer": "ipython3",
   "version": "3.8.5"
  }
 },
 "nbformat": 4,
 "nbformat_minor": 5
}
