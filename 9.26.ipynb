{
 "cells": [
  {
   "cell_type": "code",
   "execution_count": 1,
   "id": "fe285bdf",
   "metadata": {},
   "outputs": [
    {
     "name": "stdout",
     "output_type": "stream",
     "text": [
      "정수 x=3\n"
     ]
    }
   ],
   "source": [
    "x = int(input(\"정수 x=\"))"
   ]
  },
  {
   "cell_type": "code",
   "execution_count": 2,
   "id": "cba4fee4",
   "metadata": {},
   "outputs": [
    {
     "name": "stdout",
     "output_type": "stream",
     "text": [
      "홀\n"
     ]
    }
   ],
   "source": [
    "if(x%2==1):\n",
    "    print(\"홀\")\n",
    "else:\n",
    "    print(\"짝\")"
   ]
  },
  {
   "cell_type": "code",
   "execution_count": 7,
   "id": "6b9906d5",
   "metadata": {},
   "outputs": [
    {
     "name": "stdout",
     "output_type": "stream",
     "text": [
      "2500\n"
     ]
    }
   ],
   "source": [
    "sum = 0\n",
    "for i in range(1,101):\n",
    "    if i%2==1:\n",
    "        sum+=i\n",
    "#         print(i)\n",
    "print(sum)"
   ]
  },
  {
   "cell_type": "code",
   "execution_count": 10,
   "id": "b20bf46a",
   "metadata": {},
   "outputs": [
    {
     "name": "stdout",
     "output_type": "stream",
     "text": [
      "input:50\n",
      "up\n",
      "input:80\n",
      "up\n",
      "input:90\n",
      "up\n",
      "input:100\n",
      "4\n"
     ]
    }
   ],
   "source": [
    "import random\n",
    "ans = random.randrange(1,101,1)\n",
    "num=-1\n",
    "t_cnt=0\n",
    "while(ans!=num):\n",
    "    num = int(input(\"input:\"))\n",
    "    if(num>ans):\n",
    "        print(\"down\")\n",
    "    elif(num<ans):\n",
    "        print(\"up\")\n",
    "    t_cnt+=1\n",
    "print(t_cnt)"
   ]
  },
  {
   "cell_type": "code",
   "execution_count": null,
   "id": "63f75fe5",
   "metadata": {},
   "outputs": [],
   "source": []
  },
  {
   "cell_type": "code",
   "execution_count": 3,
   "id": "0b4b6d34",
   "metadata": {},
   "outputs": [],
   "source": [
    "def sum_many(*args):\n",
    "    sum=0\n",
    "    for i in args:\n",
    "        sum+=i\n",
    "    return sum"
   ]
  },
  {
   "cell_type": "code",
   "execution_count": 4,
   "id": "d6cbfaa4",
   "metadata": {},
   "outputs": [
    {
     "name": "stdout",
     "output_type": "stream",
     "text": [
      "6\n",
      "10\n"
     ]
    }
   ],
   "source": [
    "m = sum_many(1,2,3)\n",
    "print(m)\n",
    "m = sum_many(1,2,3,4)\n",
    "print(m)\n"
   ]
  },
  {
   "cell_type": "code",
   "execution_count": null,
   "id": "1113a93a",
   "metadata": {},
   "outputs": [],
   "source": []
  },
  {
   "cell_type": "code",
   "execution_count": 11,
   "id": "90d61150",
   "metadata": {},
   "outputs": [],
   "source": [
    "import numpy as np\n",
    "import time"
   ]
  },
  {
   "cell_type": "code",
   "execution_count": 12,
   "id": "ccd2b315",
   "metadata": {},
   "outputs": [],
   "source": [
    "n=1000\n",
    "m=5000"
   ]
  },
  {
   "cell_type": "code",
   "execution_count": 13,
   "id": "ddbe5442",
   "metadata": {},
   "outputs": [],
   "source": [
    "X = np.random.rand(n,m)\n",
    "W=np.random.rand(n,1)\n",
    "Z=np.zeros((1,m))"
   ]
  },
  {
   "cell_type": "code",
   "execution_count": 14,
   "id": "70dc5059",
   "metadata": {},
   "outputs": [],
   "source": [
    "start_time=time.time()"
   ]
  },
  {
   "cell_type": "code",
   "execution_count": 15,
   "id": "0ca25532",
   "metadata": {},
   "outputs": [],
   "source": [
    "for i in range(X.shape[1]):\n",
    "    for j in range(X.shape[0]):\n",
    "        Z[0][i] += W[j]*X[j][i]"
   ]
  },
  {
   "cell_type": "code",
   "execution_count": 16,
   "id": "2c5062c5",
   "metadata": {},
   "outputs": [
    {
     "name": "stdout",
     "output_type": "stream",
     "text": [
      "58.53271269798279\n"
     ]
    }
   ],
   "source": [
    "end_time=time.time()\n",
    "print(end_time-start_time)"
   ]
  },
  {
   "cell_type": "code",
   "execution_count": 19,
   "id": "f684caca",
   "metadata": {},
   "outputs": [],
   "source": [
    "import matplotlib.pyplot as plt"
   ]
  },
  {
   "cell_type": "code",
   "execution_count": 20,
   "id": "2315ee05",
   "metadata": {},
   "outputs": [],
   "source": [
    "N=8\n",
    "y = np.zeros(N)"
   ]
  },
  {
   "cell_type": "code",
   "execution_count": 21,
   "id": "2753d3ea",
   "metadata": {},
   "outputs": [],
   "source": [
    "x1 = np.linspace(0,10,N, endpoint=True)\n",
    "x2 = np.linspace(0,10,N,endpoint=False)"
   ]
  },
  {
   "cell_type": "code",
   "execution_count": 22,
   "id": "7f47a0f2",
   "metadata": {},
   "outputs": [
    {
     "data": {
      "image/png": "[encoded data removed]",
      "text/plain": [
       "<Figure size 640x480 with 1 Axes>"
      ]
     },
     "metadata": {},
     "output_type": "display_data"
    }
   ],
   "source": [
    "plt.plot(x1,y,'o')\n",
    "plt.plot(x2,y+0.5, 'o')\n",
    "plt.ylim([-0.5,1])\n",
    "plt.show()"
   ]
  },
  {
   "cell_type": "code",
   "execution_count": 26,
   "id": "46a059e9",
   "metadata": {},
   "outputs": [
    {
     "name": "stdout",
     "output_type": "stream",
     "text": [
      "[0.         0.11111111 0.22222222 0.33333333 0.44444444 0.55555556\n",
      " 0.66666667 0.77777778 0.88888889 1.        ] [0.         0.11111111 0.22222222 0.33333333 0.44444444 0.55555556\n",
      " 0.66666667 0.77777778 0.88888889 1.        ]\n",
      "\n",
      "[[0.         0.11111111 0.22222222 0.33333333 0.44444444 0.55555556\n",
      "  0.66666667 0.77777778 0.88888889 1.        ]\n",
      " [0.         0.11111111 0.22222222 0.33333333 0.44444444 0.55555556\n",
      "  0.66666667 0.77777778 0.88888889 1.        ]\n",
      " [0.         0.11111111 0.22222222 0.33333333 0.44444444 0.55555556\n",
      "  0.66666667 0.77777778 0.88888889 1.        ]\n",
      " [0.         0.11111111 0.22222222 0.33333333 0.44444444 0.55555556\n",
      "  0.66666667 0.77777778 0.88888889 1.        ]\n",
      " [0.         0.11111111 0.22222222 0.33333333 0.44444444 0.55555556\n",
      "  0.66666667 0.77777778 0.88888889 1.        ]\n",
      " [0.         0.11111111 0.22222222 0.33333333 0.44444444 0.55555556\n",
      "  0.66666667 0.77777778 0.88888889 1.        ]\n",
      " [0.         0.11111111 0.22222222 0.33333333 0.44444444 0.55555556\n",
      "  0.66666667 0.77777778 0.88888889 1.        ]\n",
      " [0.         0.11111111 0.22222222 0.33333333 0.44444444 0.55555556\n",
      "  0.66666667 0.77777778 0.88888889 1.        ]\n",
      " [0.         0.11111111 0.22222222 0.33333333 0.44444444 0.55555556\n",
      "  0.66666667 0.77777778 0.88888889 1.        ]\n",
      " [0.         0.11111111 0.22222222 0.33333333 0.44444444 0.55555556\n",
      "  0.66666667 0.77777778 0.88888889 1.        ]] *** [[0.         0.         0.         0.         0.         0.\n",
      "  0.         0.         0.         0.        ]\n",
      " [0.11111111 0.11111111 0.11111111 0.11111111 0.11111111 0.11111111\n",
      "  0.11111111 0.11111111 0.11111111 0.11111111]\n",
      " [0.22222222 0.22222222 0.22222222 0.22222222 0.22222222 0.22222222\n",
      "  0.22222222 0.22222222 0.22222222 0.22222222]\n",
      " [0.33333333 0.33333333 0.33333333 0.33333333 0.33333333 0.33333333\n",
      "  0.33333333 0.33333333 0.33333333 0.33333333]\n",
      " [0.44444444 0.44444444 0.44444444 0.44444444 0.44444444 0.44444444\n",
      "  0.44444444 0.44444444 0.44444444 0.44444444]\n",
      " [0.55555556 0.55555556 0.55555556 0.55555556 0.55555556 0.55555556\n",
      "  0.55555556 0.55555556 0.55555556 0.55555556]\n",
      " [0.66666667 0.66666667 0.66666667 0.66666667 0.66666667 0.66666667\n",
      "  0.66666667 0.66666667 0.66666667 0.66666667]\n",
      " [0.77777778 0.77777778 0.77777778 0.77777778 0.77777778 0.77777778\n",
      "  0.77777778 0.77777778 0.77777778 0.77777778]\n",
      " [0.88888889 0.88888889 0.88888889 0.88888889 0.88888889 0.88888889\n",
      "  0.88888889 0.88888889 0.88888889 0.88888889]\n",
      " [1.         1.         1.         1.         1.         1.\n",
      "  1.         1.         1.         1.        ]]\n"
     ]
    }
   ],
   "source": [
    "nx,ny=(10,10)\n",
    "x=np.linspace(0,1,nx)\n",
    "y=np.linspace(0,1,ny)\n",
    "xx,yy=np.meshgrid(x,y)\n",
    "print(x,y)\n",
    "print()\n",
    "print(xx,'***',yy)"
   ]
  },
  {
   "cell_type": "code",
   "execution_count": 27,
   "id": "baf910b1",
   "metadata": {},
   "outputs": [
    {
     "data": {
      "image/png": "[encoded data removed]",
      "text/plain": [
       "<Figure size 640x480 with 1 Axes>"
      ]
     },
     "metadata": {},
     "output_type": "display_data"
    }
   ],
   "source": [
    "z = np.sin(xx**2 + yy**2)\n",
    "plt.contourf(x,y,z)\n",
    "plt.show()"
   ]
  },
  {
   "cell_type": "code",
   "execution_count": 28,
   "id": "0b0405e6",
   "metadata": {},
   "outputs": [
    {
     "data": {
      "text/plain": [
       "array([ 7.,  6., 18.])"
      ]
     },
     "execution_count": 28,
     "metadata": {},
     "output_type": "execute_result"
    }
   ],
   "source": [
    "l = np.array([[1,0,0],[1,1,0],[2,-4.5,1]])\n",
    "b= [7,13,5]\n",
    "y=np.linalg.solve(l,b)\n",
    "y"
   ]
  },
  {
   "cell_type": "code",
   "execution_count": null,
   "id": "a9b21fb5",
   "metadata": {},
   "outputs": [],
   "source": []
  }
 ],
 "metadata": {
  "kernelspec": {
   "display_name": "Python 3 (ipykernel)",
   "language": "python",
   "name": "python3"
  },
  "language_info": {
   "codemirror_mode": {
    "name": "ipython",
    "version": 3
   },
   "file_extension": ".py",
   "mimetype": "text/x-python",
   "name": "python",
   "nbconvert_exporter": "python",
   "pygments_lexer": "ipython3",
   "version": "3.8.5"
  }
 },
 "nbformat": 4,
 "nbformat_minor": 5
}
